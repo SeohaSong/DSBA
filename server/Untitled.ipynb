{
 "cells": [
  {
   "cell_type": "code",
   "execution_count": 3,
   "metadata": {},
   "outputs": [],
   "source": [
    "import json\n",
    "import pandas as pd\n",
    "\n",
    "from bs4 import BeautifulSoup"
   ]
  },
  {
   "cell_type": "code",
   "execution_count": 6,
   "metadata": {},
   "outputs": [],
   "source": [
    "def get_posts(iter_=0):\n",
    "    \n",
    "    with open('./KBoard-Backup-20180701.xml', encoding='utf-8') as f:\n",
    "        content = f.read()\n",
    "    bs = BeautifulSoup(content, 'xml')\n",
    "    datas = bs.select('data')\n",
    "    \n",
    "    post_datas = [\n",
    "        data for data in datas\n",
    "        if data.board_id\n",
    "        and (data.board_id.text == '7' or data.board_id.text == '4')\n",
    "        and data.uid\n",
    "    ]\n",
    "    \n",
    "    idx2category = {\n",
    "        '4': 'photo',\n",
    "        '7': 'news'\n",
    "    }\n",
    "    \n",
    "    def get_post(data):\n",
    "        images = [\n",
    "            data_.file_path.text for data_ in datas\n",
    "            if data_.content_uid\n",
    "            and data_.content_uid.text == data.uid.text\n",
    "        ]\n",
    "        nonlocal iter_\n",
    "        post = {\n",
    "            'id': iter_,\n",
    "            'category': idx2category[data.board_id.text],\n",
    "            'date': data.date.text,\n",
    "            'view_count': data.view.text,\n",
    "            'thumbnail': data.thumbnail_file.text,\n",
    "            'writer': data.member_display.text,\n",
    "            'title': data.title.text,\n",
    "            'content': data.content.text.replace('\\n', '<br>'),\n",
    "            'images': images\n",
    "        }\n",
    "        iter_ += 1\n",
    "        return post\n",
    "    \n",
    "    posts = [get_post(data) for data in post_datas]\n",
    "    \n",
    "    return posts"
   ]
  },
  {
   "cell_type": "code",
   "execution_count": 7,
   "metadata": {},
   "outputs": [],
   "source": [
    "posts = get_posts()"
   ]
  },
  {
   "cell_type": "code",
   "execution_count": 8,
   "metadata": {},
   "outputs": [],
   "source": [
    "with open('./post.json', 'w') as f:\n",
    "    json.dump(posts, f)"
   ]
  },
  {
   "cell_type": "code",
   "execution_count": null,
   "metadata": {},
   "outputs": [],
   "source": []
  }
 ],
 "metadata": {
  "kernelspec": {
   "display_name": "Python 3",
   "language": "python",
   "name": "python3"
  },
  "language_info": {
   "codemirror_mode": {
    "name": "ipython",
    "version": 3
   },
   "file_extension": ".py",
   "mimetype": "text/x-python",
   "name": "python",
   "nbconvert_exporter": "python",
   "pygments_lexer": "ipython3",
   "version": "3.6.5"
  }
 },
 "nbformat": 4,
 "nbformat_minor": 2
}
