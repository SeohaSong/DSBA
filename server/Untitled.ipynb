{
 "cells": [
  {
   "cell_type": "code",
   "execution_count": 96,
   "metadata": {},
   "outputs": [],
   "source": [
    "import json\n",
    "import pandas as pd\n",
    "\n",
    "from bs4 import BeautifulSoup"
   ]
  },
  {
   "cell_type": "code",
   "execution_count": 98,
   "metadata": {},
   "outputs": [],
   "source": [
    "with open('./KBoard-Backup-20180701.xml', encoding='utf-8') as f:\n",
    "    content = f.read()\n",
    "bs = BeautifulSoup(content, 'xml')\n",
    "datas = bs.select('data')"
   ]
  },
  {
   "cell_type": "code",
   "execution_count": 100,
   "metadata": {},
   "outputs": [],
   "source": [
    "def get_newses(datas, iter_=0):\n",
    "    \n",
    "    news_datas = [\n",
    "        data for data in datas\n",
    "        if data.board_id\n",
    "        and data.board_id.text == '7'\n",
    "        and data.uid\n",
    "    ]\n",
    "    \n",
    "    def get_news(data):\n",
    "        images = [\n",
    "            data_.file_path.text for data_ in datas\n",
    "            if data_.content_uid\n",
    "            and data_.content_uid.text == data.uid.text\n",
    "        ]\n",
    "        nonlocal iter_\n",
    "        news = {\n",
    "            'id': iter_,\n",
    "            'category': 'news',\n",
    "            'date': data.date.text,\n",
    "            'view_count': data.view.text,\n",
    "            'thumbnail': data.thumbnail_file.text,\n",
    "            'writer': data.member_display.text,\n",
    "            'title': data.title.text,\n",
    "            'content': data.content.text.replace('\\n', '<br>'),\n",
    "            'images': images\n",
    "        }\n",
    "        iter_ += 1\n",
    "        return news\n",
    "    \n",
    "    newses = [get_news(data) for data in news_datas]\n",
    "    \n",
    "    return newses\n",
    "\n",
    "newses = get_newses(datas)\n",
    "with open('./news.json', 'w') as f:\n",
    "    json.dump(newses, f)"
   ]
  },
  {
   "cell_type": "code",
   "execution_count": 103,
   "metadata": {},
   "outputs": [],
   "source": []
  },
  {
   "cell_type": "code",
   "execution_count": null,
   "metadata": {},
   "outputs": [],
   "source": []
  }
 ],
 "metadata": {
  "kernelspec": {
   "display_name": "Python 3",
   "language": "python",
   "name": "python3"
  },
  "language_info": {
   "codemirror_mode": {
    "name": "ipython",
    "version": 3
   },
   "file_extension": ".py",
   "mimetype": "text/x-python",
   "name": "python",
   "nbconvert_exporter": "python",
   "pygments_lexer": "ipython3",
   "version": "3.6.5"
  }
 },
 "nbformat": 4,
 "nbformat_minor": 2
}
